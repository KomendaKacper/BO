{
  "metadata": {
    "kernelspec": {
      "name": "python",
      "display_name": "Python (Pyodide)",
      "language": "python"
    },
    "language_info": {
      "name": ""
    }
  },
  "nbformat_minor": 4,
  "nbformat": 4,
  "cells": [
    {
      "cell_type": "code",
      "source": "import numpy as np\n\ndef metoda_wegierska(koszty):\n    #1: Redukcja całkowita\n    koszty, _ = redukcja_calkowita(koszty)\n    print(\"Po redukcji całkowitej:\")\n    print(koszty)\n\n    #2: Inicjalizacja\n    n = len(koszty)\n    count_zero_lines = 0\n\n    #3: Wykonanie iteracji, dopóki nie zostaną wybrane wszystkie elementy\n    while count_zero_lines < n:\n        zaznaczone_wiersze, zaznaczone_kolumny = wykreslanie_zer_min_linii(koszty)\n        print(\"Zaznaczone wiersze:\", zaznaczone_wiersze)\n        print(\"Zaznaczone kolumny:\", zaznaczone_kolumny)\n        count_zero_lines = len(zaznaczone_wiersze) + len(zaznaczone_kolumny)\n\n        if count_zero_lines < n:\n            koszty = adjust_matrix(koszty, zaznaczone_wiersze, zaznaczone_kolumny)\n        else:\n            rozwiazanie = znajdz_zerowy_element(koszty)\n    return rozwiazanie\n\ndef redukcja_calkowita(matrix):\n    # Zmniejszenie macierzy szukając najmniejszej wartości w wierszu nastepnie w kolumnie\n    # Zmniejszenie wiersza\n    row_mins = matrix.min(axis=1).reshape(-1, 1)\n    row_reduced = matrix - row_mins\n\n    # Obrót macierzy i redukcja kolumn\n    col_mins = row_reduced.min(axis=0)\n    col_reduced = (row_reduced.T - col_mins).T\n\n    return col_reduced, row_mins\n\ndef znajdz_zerowy_element(zero_mat):\n    mark_zero = []\n    # Iterujemy, dopóki istnieją zera w macierzy\n    while np.count_nonzero(zero_mat) > 0:\n        min_row = [99999, -1]\n\n        # Znajdujemy wiersz z najmniejszą ilością zer\n        for row_num in range(zero_mat.shape[0]):\n            count_zeros = np.sum(zero_mat[row_num] == 0)\n            if count_zeros > 0 and min_row[0] > count_zeros:\n                min_row = [count_zeros, row_num]\n\n        # Jeśli znajdujemy wiersz z zerami\n        if min_row[1] != -1:\n            zero_index = np.where(zero_mat[min_row[1]] == 0)[0][0]\n            mark_zero.append((min_row[1], zero_index))\n            # Oznaczamy wiersz i kolumnę zawierającą zero jako użyte\n            zero_mat[min_row[1], :] = -1\n            zero_mat[:, zero_index] = -1\n        else:\n            break  # Jeśli nie ma już zer do wyznaczenia, przerywamy pętlę\n\n    return mark_zero[0], mark_zero\n\ndef adjust_matrix(mat, cover_rows, cover_cols):\n    cur_mat = np.copy(mat)\n    non_zero_elements = []\n\n    # Znajdujemy najmniejszą wartość elementu nieoznaczonego w zaznaczonych wierszach/kolumnach\n    for row in range(cur_mat.shape[0]):\n        if row not in cover_rows:\n            for col in range(cur_mat.shape[1]):\n                if col not in cover_cols:\n                    non_zero_elements.append(cur_mat[row, col])\n\n    min_num = min(non_zero_elements)\n\n    # Odejmujemy od wszystkich wartości nieoznaczonych wierszy/kolumn\n    for row in range(cur_mat.shape[0]):\n        if row not in cover_rows:\n            for col in range(cur_mat.shape[1]):\n                if col not in cover_cols:\n                    cur_mat[row, col] -= min_num\n\n    # Dodajemy do wszystkich wartości oznaczonych wierszy/kolumn\n    for row in cover_rows:\n        for col in cover_cols:\n            cur_mat[row, col] += min_num\n\n    return cur_mat\n\ndef wykreslanie_zer_min_linii(koszty):\n    # Krok 1: Znalezienie minimum w każdym wierszu\n    min_wierszy = [min(wiersz) for wiersz in koszty]\n    \n    # Krok 2: Znalezienie minimum w każdej kolumnie\n    min_kolumn = [min(koszty[i][j] for i in range(len(koszty))) for j in range(len(koszty[0]))]\n    \n    # Krok 3: Inicjalizacja tablicy zaznaczeń dla wierszy i kolumn\n    zaznaczone_wiersze = [False] * len(koszty)\n    zaznaczone_kolumny = [False] * len(koszty[0])\n    \n    # Krok 4: Zaznaczanie zer, które pokrywają się z minimalnymi wartościami z Kroków 1 i 2\n    for i in range(len(koszty)):\n        for j in range(len(koszty[i])):\n            if koszty[i][j] == min_wierszy[i] and koszty[i][j] == min_kolumn[j]:\n                zaznaczone_wiersze[i] = True\n                zaznaczone_kolumny[j] = True\n    \n    # Krok 5: Inicjalizacja tablicy rzędów i kolumn\n    rzedy_do_wykreslenia = [i for i, zaznaczony in enumerate(zaznaczone_wiersze) if not zaznaczony]\n    kolumny_do_wykreslenia = [j for j, zaznaczony in enumerate(zaznaczone_kolumny) if zaznaczony]\n    \n    return rzedy_do_wykreslenia, kolumny_do_wykreslenia\n\n# Przykładowe użycie:\nkoszty = np.array( [\n    [4, 2, 5, 7],\n    [8, 3, 10, 8],\n    [12, 5, 4, 5],\n    [6, 3, 7, 14]\n])\n\nrozwiazanie = metoda_wegierska(koszty)\nprint(\"Rozwiązanie:\")\nprint(rozwiazanie)",
      "metadata": {
        "trusted": true
      },
      "outputs": [],
      "execution_count": null
    },
    {
      "cell_type": "code",
      "source": "",
      "metadata": {
        "trusted": true
      },
      "outputs": [],
      "execution_count": null
    }
  ]
}